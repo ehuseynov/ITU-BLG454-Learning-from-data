{
  "nbformat": 4,
  "nbformat_minor": 0,
  "metadata": {
    "colab": {
      "provenance": []
    },
    "kernelspec": {
      "name": "python3",
      "display_name": "Python 3"
    },
    "language_info": {
      "name": "python"
    }
  },
  "cells": [
    {
      "cell_type": "markdown",
      "source": [
        "Name Surname:\n",
        "\n",
        "Student No:\n",
        "\n",
        "---"
      ],
      "metadata": {
        "id": "dNlZd5pyw-OR"
      }
    },
    {
      "cell_type": "markdown",
      "source": [
        "Libraries to be used\n",
        "\n",
        "---\n",
        "\n"
      ],
      "metadata": {
        "id": "W0aHEvh1b6fj"
      }
    },
    {
      "cell_type": "code",
      "execution_count": null,
      "metadata": {
        "id": "H6-FpGne92Tr"
      },
      "outputs": [],
      "source": [
        "from sklearn.linear_model import LogisticRegression\n",
        "from sklearn.neighbors import KNeighborsClassifier\n",
        "from sklearn.naive_bayes import GaussianNB\n",
        "from sklearn.decomposition import PCA\n",
        "from sklearn.metrics import accuracy_score, f1_score, root_mean_squared_error\n",
        "from sklearn.datasets import load_digits\n",
        "from sklearn.model_selection import train_test_split\n",
        "import numpy as np\n",
        "from matplotlib import pyplot as plt"
      ]
    },
    {
      "cell_type": "markdown",
      "source": [
        "# Build your own code-base (30 points)\n",
        "\n",
        "Implement the methods provided and compare your implementation with Sklearn library\n",
        "\n",
        "---"
      ],
      "metadata": {
        "id": "ijQ4Fvfvcmez"
      }
    },
    {
      "cell_type": "markdown",
      "source": [
        "K-Nearest Neighbour (5 points)"
      ],
      "metadata": {
        "id": "LguwidLjdgya"
      }
    },
    {
      "cell_type": "code",
      "execution_count": null,
      "metadata": {
        "id": "F33-UFA-bper"
      },
      "outputs": [],
      "source": [
        "class KNN:\n",
        "  def __init__(self, train_data, train_label, k=3):\n",
        "    self.k = k\n",
        "    self.train_data = train_data\n",
        "    self.train_label = train_label\n",
        "\n",
        "  def predict(self, test_data):\n",
        "    # implement here\n",
        "    pass"
      ]
    },
    {
      "cell_type": "markdown",
      "source": [
        "Gaussian Naive Bayes (5 points)"
      ],
      "metadata": {
        "id": "2EW4yvZlmOPl"
      }
    },
    {
      "cell_type": "code",
      "source": [
        "class GNB:\n",
        "  def __init__(self, train_data, train_label):\n",
        "    self.learning_rate = learning_rate\n",
        "    self.num_iterations = num_iterations\n",
        "    self.train_data = train_data\n",
        "    self.train_label = train_label\n",
        "\n",
        "  def gaussian_probability(self, x, c):\n",
        "    # implement here\n",
        "    pass\n",
        "\n",
        "  def fit(self):\n",
        "    # implement here\n",
        "    pass\n",
        "\n",
        "  def predict(self, test_data):\n",
        "    # implement here\n",
        "    pass"
      ],
      "metadata": {
        "id": "wXCwTb64dffx"
      },
      "execution_count": null,
      "outputs": []
    },
    {
      "cell_type": "markdown",
      "source": [
        "Principal Component Analysis (5 points)"
      ],
      "metadata": {
        "id": "8DtdaqINoWd7"
      }
    },
    {
      "cell_type": "code",
      "source": [
        "class PCA:\n",
        "  def __init__(self, data, n_components):\n",
        "    self.data = data\n",
        "    self.n_components = n_components\n",
        "\n",
        "  def fit(self):\n",
        "    # implement here\n",
        "    pass\n",
        "\n",
        "  def transform(self,x):\n",
        "    # implement here\n",
        "    pass"
      ],
      "metadata": {
        "id": "0fAfE2jboV_v"
      },
      "execution_count": null,
      "outputs": []
    },
    {
      "cell_type": "markdown",
      "source": [
        "Metrics (2+3 points)\n",
        "\n"
      ],
      "metadata": {
        "id": "Wp95iB6qffg3"
      }
    },
    {
      "cell_type": "code",
      "source": [
        "def rmse(y_true, y_pred):\n",
        "  # implement here\n",
        "  pass\n",
        "\n",
        "def accuracyNf1_score(y_true, y_pred):\n",
        "  # implement here\n",
        "  pass\n"
      ],
      "metadata": {
        "id": "8L4zDi-lffK2"
      },
      "execution_count": null,
      "outputs": []
    },
    {
      "cell_type": "markdown",
      "source": [
        "Visualization Tools (5 points)"
      ],
      "metadata": {
        "id": "kV0sVRDS8j-G"
      }
    },
    {
      "cell_type": "code",
      "source": [
        "### fill here ###"
      ],
      "metadata": {
        "id": "_Kf9PZFy8cYP"
      },
      "execution_count": null,
      "outputs": []
    },
    {
      "cell_type": "markdown",
      "source": [
        "Validate your implementation using libraries (5 points)\n",
        "\n",
        "(you can generate synthetic data using numpy of import another toy dataset from sklearn)\n"
      ],
      "metadata": {
        "id": "wEdKWex2pcwa"
      }
    },
    {
      "cell_type": "code",
      "source": [
        "### fill here ###"
      ],
      "metadata": {
        "id": "xAqgVs5dp9pz"
      },
      "execution_count": null,
      "outputs": []
    },
    {
      "cell_type": "markdown",
      "source": [
        "# Experiments (45 points)\n",
        "\n",
        "Use Sklearn classes\n",
        "\n",
        "---"
      ],
      "metadata": {
        "id": "gvTTC7_BqMmx"
      }
    },
    {
      "cell_type": "markdown",
      "source": [
        "Dataset preparation"
      ],
      "metadata": {
        "id": "1U41fPKBr1Xr"
      }
    },
    {
      "cell_type": "code",
      "source": [
        "# Load dataset and split to train and test set\n",
        "digits = load_digits()\n",
        "X_train, X_test, y_train, y_test = train_test_split(digits.data, digits.target, test_size=0.2, random_state=454)\n",
        "\n",
        "# Calculate the frequency of each class in the training set\n",
        "unique_classes_test, class_counts_test = np.unique(y_test, return_counts=True)\n",
        "unique_classes_train, class_counts_train = np.unique(y_train, return_counts=True)\n",
        "\n",
        "for cls_train, count_train, cls_test, count_test in zip(unique_classes_train, class_counts_train, unique_classes_test, class_counts_test):\n",
        "  print(f\"Class {cls_train}: {count_train} train  {count_test} test {count_train/count_test} ratio\")"
      ],
      "metadata": {
        "colab": {
          "base_uri": "https://localhost:8080/"
        },
        "id": "FLziE30kX8Nr",
        "outputId": "d1fd9e07-ff14-4f93-b8e0-8a3a6c17dbc7"
      },
      "execution_count": null,
      "outputs": [
        {
          "output_type": "stream",
          "name": "stdout",
          "text": [
            "Class 0: 144 train  34 test 4.235294117647059 ratio\n",
            "Class 1: 137 train  45 test 3.0444444444444443 ratio\n",
            "Class 2: 150 train  27 test 5.555555555555555 ratio\n",
            "Class 3: 145 train  38 test 3.8157894736842106 ratio\n",
            "Class 4: 145 train  36 test 4.027777777777778 ratio\n",
            "Class 5: 144 train  38 test 3.789473684210526 ratio\n",
            "Class 6: 146 train  35 test 4.171428571428572 ratio\n",
            "Class 7: 142 train  37 test 3.8378378378378377 ratio\n",
            "Class 8: 143 train  31 test 4.612903225806452 ratio\n",
            "Class 9: 141 train  39 test 3.6153846153846154 ratio\n"
          ]
        }
      ]
    },
    {
      "cell_type": "markdown",
      "source": [
        "Apply classification methods using the dataset directly (10 points)\n",
        "(paramtre denemeleri tarzı şeyler)"
      ],
      "metadata": {
        "id": "W1E9IPBAr9d6"
      }
    },
    {
      "cell_type": "code",
      "source": [
        "### fill here ###"
      ],
      "metadata": {
        "id": "FYSdPF-mqJhK"
      },
      "execution_count": null,
      "outputs": []
    },
    {
      "cell_type": "markdown",
      "source": [
        "Apply PCA and find optimal #components with the best recontruction (RMSE) as the objective (10 points)"
      ],
      "metadata": {
        "id": "IbBlC1WmsXDq"
      }
    },
    {
      "cell_type": "code",
      "source": [
        "### fill here ###"
      ],
      "metadata": {
        "id": "yyOsGnlksrcr"
      },
      "execution_count": null,
      "outputs": []
    },
    {
      "cell_type": "markdown",
      "source": [
        "Apply PCA class-wise and merge the transformed features (10 points)"
      ],
      "metadata": {
        "id": "h1CCYucCstUU"
      }
    },
    {
      "cell_type": "code",
      "source": [
        "### fill here ###"
      ],
      "metadata": {
        "id": "ewfFBqaesskI"
      },
      "execution_count": null,
      "outputs": []
    },
    {
      "cell_type": "markdown",
      "source": [
        "Apply classification methods on the transformed features (PCA outputs) both nomral and class-wise (15 points)\n",
        "(normal PCA dimension 30, class-wise PCA dimension 3x10)"
      ],
      "metadata": {
        "id": "hIVgxZwFtJfv"
      }
    },
    {
      "cell_type": "code",
      "source": [
        "### fill here ###"
      ],
      "metadata": {
        "id": "bbx-HOP6tI93"
      },
      "execution_count": null,
      "outputs": []
    }
  ]
}